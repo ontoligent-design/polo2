{
 "cells": [
  {
   "cell_type": "code",
   "execution_count": 41,
   "metadata": {},
   "outputs": [],
   "source": [
    "from polo2 import PoloDb\n",
    "import numpy as np"
   ]
  },
  {
   "cell_type": "code",
   "execution_count": 3,
   "metadata": {},
   "outputs": [],
   "source": [
    "polo_pub = \"/Users/rca2t1/Dropbox/CODE/polo2-test/PUB\"\n",
    "db_file = f\"{polo_pub}/aitf/aitf-mallet-trial1.db\"\n",
    "db = PoloDb(db_file)"
   ]
  },
  {
   "cell_type": "code",
   "execution_count": 90,
   "metadata": {},
   "outputs": [],
   "source": [
    "word = db.get_table('word').set_index('word_id')\n",
    "topicword = db.get_table('topicword').set_index(['word_id', 'topic_id'])\n",
    "topic = db.get_table('topic').set_index('topic_id')"
   ]
  },
  {
   "cell_type": "code",
   "execution_count": 91,
   "metadata": {},
   "outputs": [],
   "source": [
    "WTM = topicword.unstack(fill_value=0) + .001"
   ]
  },
  {
   "cell_type": "code",
   "execution_count": 92,
   "metadata": {},
   "outputs": [],
   "source": [
    "PWT = WTM / WTM.sum()\n",
    "PWT.columns = PWT.columns.droplevel(0)\n",
    "PW = (WTM.T.sum() / WTM.T.sum().sum()).to_frame('p')"
   ]
  },
  {
   "cell_type": "code",
   "execution_count": 54,
   "metadata": {},
   "outputs": [],
   "source": [
    "λ = .5"
   ]
  },
  {
   "cell_type": "code",
   "execution_count": 105,
   "metadata": {},
   "outputs": [],
   "source": [
    "SIG = λ * np.log(PWT.T) + (1 - λ) * np.log(PWT.T/PW.p.T)"
   ]
  },
  {
   "cell_type": "code",
   "execution_count": 109,
   "metadata": {},
   "outputs": [],
   "source": [
    "PHI = SIG.T.join(word.word_str).set_index('word_str')"
   ]
  },
  {
   "cell_type": "code",
   "execution_count": 115,
   "metadata": {},
   "outputs": [
    {
     "data": {
      "text/plain": [
       "word_str\n",
       "architecture    0.178104\n",
       "units           0.087276\n",
       "edge            0.066085\n",
       "processor      -0.221514\n",
       "analog         -0.282720\n",
       "pim            -0.282720\n",
       "isa            -0.282720\n",
       "riscv          -0.282720\n",
       "iot            -0.282720\n",
       "constraints    -0.282720\n",
       "Name: 3, dtype: float64"
      ]
     },
     "execution_count": 115,
     "metadata": {},
     "output_type": "execute_result"
    }
   ],
   "source": [
    "PHI[].sort_values(ascending=False).head(10)"
   ]
  },
  {
   "cell_type": "code",
   "execution_count": null,
   "metadata": {},
   "outputs": [],
   "source": []
  }
 ],
 "metadata": {
  "kernelspec": {
   "display_name": "ds5001",
   "language": "python",
   "name": "python3"
  },
  "language_info": {
   "codemirror_mode": {
    "name": "ipython",
    "version": 3
   },
   "file_extension": ".py",
   "mimetype": "text/x-python",
   "name": "python",
   "nbconvert_exporter": "python",
   "pygments_lexer": "ipython3",
   "version": "3.11.5"
  }
 },
 "nbformat": 4,
 "nbformat_minor": 2
}
